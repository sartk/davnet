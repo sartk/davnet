{
 "cells": [
  {
   "cell_type": "code",
   "execution_count": null,
   "metadata": {},
   "outputs": [],
   "source": [
    "from model import DAVNet2D\n",
    "from dataset import *\n",
    "import matplotlib.pyplot as plt\n",
    "from matplotlib.colors import Colormap\n",
    "import numpy as np\n",
    "import sys\n",
    "import os\n",
    "import torch\n",
    "\n",
    "PATH = '/data/bigbone6/skamat/checkpoints-davnet/20210213-10064601.pt'\n",
    "os.environ['CUDA_VISIBLE_DEVICES'] = '1,2'\n",
    "model = DAVNet2D(4, dp=True).cuda()\n",
    "\n",
    "checkpoint = torch.load(PATH, map_location=torch.device('cpu'))\n",
    "model.load_state_dict(checkpoint['model_state_dict'])\n",
    "model.eval()\n",
    "\n",
    "data = kMRI('train', balanced=False, group='source')\n",
    "\n",
    "while True:\n",
    "    print()\n",
    "    i = int(input('Enter Image Index (0 - {})'.format(len(data) - 1)))\n",
    "    image, segmentation, domain = data[i]\n",
    "    image, segmentation, domain = image.cuda(), segmentation.cuda(), domain.cuda()\n",
    "    with torch.no_grad():\n",
    "        seg_pred, dom_pred = model(image.view(1, 1, 344, 344), 0, False)\n",
    "    image = image.view(344, 344).cpu().numpy()\n",
    "    seg_pred = seg_pred.view(-1, 344, 344).argmax(0).cpu().numpy()\n",
    "    segmentation = segmentation.view(-1, 344, 344).argmax(0).cpu().numpy()\n",
    "    print(\"True Domain: {}, Predicted Domain: {}\".format(domain, dom_pred))\n",
    "    dom_pred = dom_pred.argmax(-1).view(-1)[0].item()\n",
    "    domain = domain.view(-1)[0].item()\n",
    "\n",
    "    #print(\"True Domain: {}, Predicted Domain: {}\".format(domain, dom_pred))\n",
    "\n",
    "    f = plt.figure()\n",
    "    f.add_subplot(1,3, 1)\n",
    "    plt.imshow(image, cmap='gray')\n",
    "    f.add_subplot(1,3, 2)\n",
    "    plt.imshow(segmentation)\n",
    "    f.add_subplot(1,3, 3)\n",
    "    plt.imshow(seg_pred)\n",
    "\n",
    "    plt.show()"
   ]
  },
  {
   "cell_type": "code",
   "execution_count": null,
   "metadata": {},
   "outputs": [],
   "source": []
  }
 ],
 "metadata": {
  "kernelspec": {
   "display_name": "Python 3",
   "language": "python",
   "name": "python3"
  },
  "language_info": {
   "codemirror_mode": {
    "name": "ipython",
    "version": 3
   },
   "file_extension": ".py",
   "mimetype": "text/x-python",
   "name": "python",
   "nbconvert_exporter": "python",
   "pygments_lexer": "ipython3",
   "version": "3.8.2"
  }
 },
 "nbformat": 4,
 "nbformat_minor": 4
}
